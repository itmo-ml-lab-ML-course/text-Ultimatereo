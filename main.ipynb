{
 "cells": [
  {
   "cell_type": "code",
   "execution_count": 1,
   "id": "initial_id",
   "metadata": {
    "collapsed": true,
    "ExecuteTime": {
     "end_time": "2024-03-09T18:21:13.354426300Z",
     "start_time": "2024-03-09T18:21:07.503377900Z"
    }
   },
   "outputs": [
    {
     "name": "stderr",
     "output_type": "stream",
     "text": [
      "Outer loop:   0%|          | 0/10 [00:00<?, ?it/s]\n",
      "Inner loop:   0%|          | 0/5 [00:00<?, ?it/s]\u001B[A\n",
      "Inner loop:  20%|██        | 1/5 [00:00<00:00,  9.93it/s]\u001B[A\n",
      "Inner loop:  40%|████      | 2/5 [00:00<00:00,  9.80it/s]\u001B[A\n",
      "Inner loop:  60%|██████    | 3/5 [00:00<00:00,  9.64it/s]\u001B[A\n",
      "Inner loop:  80%|████████  | 4/5 [00:00<00:00,  9.57it/s]\u001B[A\n",
      "Inner loop: 100%|██████████| 5/5 [00:00<00:00,  9.45it/s]\u001B[A\n",
      "Outer loop:  10%|█         | 1/10 [00:00<00:04,  1.87it/s][A\n",
      "Inner loop:   0%|          | 0/5 [00:00<?, ?it/s]\u001B[A\n",
      "Inner loop:  20%|██        | 1/5 [00:00<00:00,  9.94it/s]\u001B[A\n",
      "Inner loop:  40%|████      | 2/5 [00:00<00:00,  9.74it/s]\u001B[A\n",
      "Inner loop:  60%|██████    | 3/5 [00:00<00:00,  9.55it/s]\u001B[A\n",
      "Inner loop:  80%|████████  | 4/5 [00:00<00:00,  9.56it/s]\u001B[A\n",
      "Inner loop: 100%|██████████| 5/5 [00:00<00:00,  9.58it/s]\u001B[A\n",
      "Outer loop:  20%|██        | 2/10 [00:01<00:04,  1.84it/s][A\n",
      "Inner loop:   0%|          | 0/5 [00:00<?, ?it/s]\u001B[A\n",
      "Inner loop:  20%|██        | 1/5 [00:00<00:00,  9.96it/s]\u001B[A\n",
      "Inner loop:  40%|████      | 2/5 [00:00<00:00,  9.25it/s]\u001B[A\n",
      "Inner loop:  60%|██████    | 3/5 [00:00<00:00,  9.41it/s]\u001B[A\n",
      "Inner loop:  80%|████████  | 4/5 [00:00<00:00,  9.34it/s]\u001B[A\n",
      "Inner loop: 100%|██████████| 5/5 [00:00<00:00,  9.41it/s]\u001B[A\n",
      "Outer loop:  30%|███       | 3/10 [00:01<00:03,  1.78it/s][A\n",
      "Inner loop:   0%|          | 0/5 [00:00<?, ?it/s]\u001B[A\n",
      "Inner loop:  20%|██        | 1/5 [00:00<00:00,  9.92it/s]\u001B[A\n",
      "Inner loop:  40%|████      | 2/5 [00:00<00:00,  9.33it/s]\u001B[A\n",
      "Inner loop:  60%|██████    | 3/5 [00:00<00:00,  9.25it/s]\u001B[A\n",
      "Inner loop:  80%|████████  | 4/5 [00:00<00:00,  9.24it/s]\u001B[A\n",
      "Inner loop: 100%|██████████| 5/5 [00:00<00:00,  9.40it/s]\u001B[A\n",
      "Outer loop:  40%|████      | 4/10 [00:02<00:03,  1.75it/s][A\n",
      "Inner loop:   0%|          | 0/5 [00:00<?, ?it/s]\u001B[A\n",
      "Inner loop:  20%|██        | 1/5 [00:00<00:00,  9.97it/s]\u001B[A\n",
      "Inner loop:  40%|████      | 2/5 [00:00<00:00,  9.45it/s]\u001B[A\n",
      "Inner loop:  60%|██████    | 3/5 [00:00<00:00,  9.38it/s]\u001B[A\n",
      "Inner loop:  80%|████████  | 4/5 [00:00<00:00,  9.50it/s]\u001B[A\n",
      "Inner loop: 100%|██████████| 5/5 [00:00<00:00,  9.24it/s]\u001B[A\n",
      "Outer loop:  50%|█████     | 5/10 [00:02<00:02,  1.74it/s][A\n",
      "Inner loop:   0%|          | 0/5 [00:00<?, ?it/s]\u001B[A\n",
      "Inner loop:  20%|██        | 1/5 [00:00<00:00,  9.87it/s]\u001B[A\n",
      "Inner loop:  40%|████      | 2/5 [00:00<00:00,  9.56it/s]\u001B[A\n",
      "Inner loop:  60%|██████    | 3/5 [00:00<00:00,  8.69it/s]\u001B[A\n",
      "Inner loop:  80%|████████  | 4/5 [00:00<00:00,  9.07it/s]\u001B[A\n",
      "Inner loop: 100%|██████████| 5/5 [00:00<00:00,  8.55it/s]\u001B[A\n",
      "Outer loop:  60%|██████    | 6/10 [00:03<00:02,  1.72it/s][A\n",
      "Inner loop:   0%|          | 0/5 [00:00<?, ?it/s]\u001B[A\n",
      "Inner loop:  20%|██        | 1/5 [00:00<00:00,  9.89it/s]\u001B[A\n",
      "Inner loop:  40%|████      | 2/5 [00:00<00:00,  9.66it/s]\u001B[A\n",
      "Inner loop:  60%|██████    | 3/5 [00:00<00:00,  8.38it/s]\u001B[A\n",
      "Inner loop:  80%|████████  | 4/5 [00:00<00:00,  8.18it/s]\u001B[A\n",
      "Inner loop: 100%|██████████| 5/5 [00:00<00:00,  8.49it/s]\u001B[A\n",
      "Outer loop:  70%|███████   | 7/10 [00:04<00:01,  1.69it/s][A\n",
      "Inner loop:   0%|          | 0/5 [00:00<?, ?it/s]\u001B[A\n",
      "Inner loop:  20%|██        | 1/5 [00:00<00:00,  9.17it/s]\u001B[A\n",
      "Inner loop:  40%|████      | 2/5 [00:00<00:00,  8.83it/s]\u001B[A\n",
      "Inner loop:  60%|██████    | 3/5 [00:00<00:00,  8.96it/s]\u001B[A\n",
      "Inner loop:  80%|████████  | 4/5 [00:00<00:00,  9.15it/s]\u001B[A\n",
      "Inner loop: 100%|██████████| 5/5 [00:00<00:00,  8.93it/s]\u001B[A\n",
      "Outer loop:  80%|████████  | 8/10 [00:04<00:01,  1.70it/s][A\n",
      "Inner loop:   0%|          | 0/5 [00:00<?, ?it/s]\u001B[A\n",
      "Inner loop:  20%|██        | 1/5 [00:00<00:00,  9.96it/s]\u001B[A\n",
      "Inner loop:  40%|████      | 2/5 [00:00<00:00,  9.69it/s]\u001B[A\n",
      "Inner loop:  60%|██████    | 3/5 [00:00<00:00,  9.65it/s]\u001B[A\n",
      "Inner loop:  80%|████████  | 4/5 [00:00<00:00,  9.63it/s]\u001B[A\n",
      "Inner loop: 100%|██████████| 5/5 [00:00<00:00,  9.55it/s]\u001B[A\n",
      "Outer loop:  90%|█████████ | 9/10 [00:05<00:00,  1.72it/s][A\n",
      "Inner loop:   0%|          | 0/5 [00:00<?, ?it/s]\u001B[A\n",
      "Inner loop:  20%|██        | 1/5 [00:00<00:00,  9.93it/s]\u001B[A\n",
      "Inner loop:  40%|████      | 2/5 [00:00<00:00,  9.47it/s]\u001B[A\n",
      "Inner loop:  60%|██████    | 3/5 [00:00<00:00,  9.45it/s]\u001B[A\n",
      "Inner loop:  80%|████████  | 4/5 [00:00<00:00,  9.55it/s]\u001B[A\n",
      "Inner loop: 100%|██████████| 5/5 [00:00<00:00,  9.50it/s]\u001B[A\n",
      "Outer loop: 100%|██████████| 10/10 [00:05<00:00,  1.73it/s]A\n"
     ]
    }
   ],
   "source": []
  },
  {
   "cell_type": "code",
   "execution_count": null,
   "outputs": [],
   "source": [],
   "metadata": {
    "collapsed": false
   },
   "id": "465a83d1411e1212"
  }
 ],
 "metadata": {
  "kernelspec": {
   "display_name": "Python 3",
   "language": "python",
   "name": "python3"
  },
  "language_info": {
   "codemirror_mode": {
    "name": "ipython",
    "version": 2
   },
   "file_extension": ".py",
   "mimetype": "text/x-python",
   "name": "python",
   "nbconvert_exporter": "python",
   "pygments_lexer": "ipython2",
   "version": "2.7.6"
  }
 },
 "nbformat": 4,
 "nbformat_minor": 5
}
